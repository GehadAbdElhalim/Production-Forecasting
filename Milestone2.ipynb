{
 "cells": [
  {
   "cell_type": "code",
   "execution_count": 2,
   "metadata": {},
   "outputs": [],
   "source": [
    "import pandas as pd\n",
    "import numpy as np\n",
    "import time\n",
    "from keras.models import Sequential\n",
    "from keras.layers import *\n",
    "from keras.optimizers import *"
   ]
  },
  {
   "cell_type": "code",
   "execution_count": 3,
   "metadata": {},
   "outputs": [],
   "source": [
    "# A method to fix the API\n",
    "def fixAPI(API):\n",
    "    if API[0]=='5':\n",
    "        API = '0'+API\n",
    "    return API"
   ]
  },
  {
   "cell_type": "code",
   "execution_count": 6,
   "metadata": {},
   "outputs": [
    {
     "name": "stdout",
     "output_type": "stream",
     "text": [
      "ReadData 0.5360305309295654\n"
     ]
    }
   ],
   "source": [
    "# Reading the data\n",
    "start = time.time()\n",
    "production_data_train = pd.read_csv(\"production_data_train.csv\",dtype={'API':str})\n",
    "# production_data_test = pd.read_csv(\"production_data_test.csv\",dtype={'API':str})\n",
    "end = time.time()\n",
    "print('ReadData',end-start)"
   ]
  },
  {
   "cell_type": "code",
   "execution_count": 7,
   "metadata": {},
   "outputs": [
    {
     "name": "stdout",
     "output_type": "stream",
     "text": [
      "FixApi 0.09400510787963867\n"
     ]
    }
   ],
   "source": [
    "# Fix api\n",
    "start = time.time()\n",
    "production_data_train[\"API\"] = production_data_train[\"API\"].apply(fixAPI)\n",
    "end = time.time()\n",
    "print('FixApi',end-start)"
   ]
  },
  {
   "cell_type": "code",
   "execution_count": 8,
   "metadata": {},
   "outputs": [
    {
     "name": "stdout",
     "output_type": "stream",
     "text": [
      "RemovingDuplicates 0.5250298976898193\n"
     ]
    }
   ],
   "source": [
    "# Removing duplicates\n",
    "start = time.time()\n",
    "production_data_train = production_data_train.sort_values(['_LastUpdate'])\n",
    "production_data_train.drop_duplicates(subset=['API','Year','Month'],keep='last',inplace=True)\n",
    "end = time.time()\n",
    "print('RemovingDuplicates',end-start)"
   ]
  },
  {
   "cell_type": "code",
   "execution_count": 9,
   "metadata": {},
   "outputs": [
    {
     "name": "stdout",
     "output_type": "stream",
     "text": [
      "RemovePrePeekMonth 0.5060291290283203\n"
     ]
    }
   ],
   "source": [
    "# Remove pre-peek month\n",
    "start = time.time()\n",
    "maxLiquid = production_data_train.groupby(['API'],as_index=False).agg({'Liquid':'max'})\n",
    "maxDate = pd.merge(maxLiquid[['API','Liquid']],production_data_train[['API','Liquid','Year','Month']],on=['API','Liquid'],how='left')\n",
    "\n",
    "max1 = maxDate.groupby(['API','Liquid'],as_index=False).agg({'Year':'min'})\n",
    "maxDate = pd.merge(maxDate[['API','Liquid','Year','Month']],max1[['API','Liquid','Year']],on=['API','Liquid','Year'],how='right')\n",
    "maxDate = maxDate.groupby(['API','Liquid','Year'],as_index=False).agg({'Month':'min'})\n",
    "\n",
    "maxDate = maxDate[['API','Year','Month']]\n",
    "maxDate = maxDate.rename(columns={\"Year\":\"maxYear\",'Month':'maxMonth'})\n",
    "production_data_train = pd.merge(production_data_train,maxDate[['API','maxYear','maxMonth']],on='API')\n",
    "production_data_train = production_data_train[((production_data_train['Year']-production_data_train['maxYear'])*12+production_data_train['Month']-production_data_train['maxMonth'])>=0]\n",
    "\n",
    "end = time.time()\n",
    "print('RemovePrePeekMonth',end-start)"
   ]
  },
  {
   "cell_type": "code",
   "execution_count": 10,
   "metadata": {},
   "outputs": [
    {
     "name": "stdout",
     "output_type": "stream",
     "text": [
      "IndexColumn 0.0740044116973877\n"
     ]
    }
   ],
   "source": [
    "# Adding Index\n",
    "start = time.time()\n",
    "production_data_train[\"Index\"] = (production_data_train[\"Year\"]-production_data_train['maxYear'])*12+production_data_train[\"Month\"]-production_data_train[\"maxMonth\"]+1\n",
    "end = time.time()\n",
    "print('IndexColumn',end-start)"
   ]
  },
  {
   "cell_type": "code",
   "execution_count": null,
   "metadata": {},
   "outputs": [],
   "source": []
  }
 ],
 "metadata": {
  "kernelspec": {
   "display_name": "Python 3",
   "language": "python",
   "name": "python3"
  },
  "language_info": {
   "codemirror_mode": {
    "name": "ipython",
    "version": 3
   },
   "file_extension": ".py",
   "mimetype": "text/x-python",
   "name": "python",
   "nbconvert_exporter": "python",
   "pygments_lexer": "ipython3",
   "version": "3.7.3"
  }
 },
 "nbformat": 4,
 "nbformat_minor": 2
}
